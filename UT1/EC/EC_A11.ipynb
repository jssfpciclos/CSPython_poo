{
 "cells": [
  {
   "cell_type": "markdown",
   "metadata": {},
   "source": [
    "# UT1. Ejercicios A1. POO en Python: Clases y objetos\n",
    "\n",
    "Realizar los siguientes ejercicios en Python, cada uno en su propia celda.\n",
    "No es necesario crear 2 celdas para un ejercio, cada ejercicio se resuelve en una celda."
   ]
  },
  {
   "cell_type": "markdown",
   "metadata": {},
   "source": [
    "### Ejercicio 1\n",
    "\n",
    "Escribe un programa en Python que cree una clase Vehiculo con los atributos maximaVelocidad y kilometros. Los atributos deben estar dentro del constructor.\n",
    "Crear una instancia de la clase Vehiculo e imprimir el valor de sus atributos."
   ]
  },
  {
   "cell_type": "code",
   "execution_count": null,
   "metadata": {},
   "outputs": [],
   "source": []
  },
  {
   "cell_type": "markdown",
   "metadata": {},
   "source": [
    "### Ejercicio 2\n",
    "\n",
    "Dentro del mismo programa, crear una clase Vehiculo2 sin ninguna variable ni atributo (una clase vacía)."
   ]
  },
  {
   "cell_type": "code",
   "execution_count": null,
   "metadata": {},
   "outputs": [],
   "source": []
  },
  {
   "cell_type": "markdown",
   "metadata": {},
   "source": [
    "### Ejercicio 3\n",
    "\n",
    "Escribe un programa que trabaje con una clase Alumno, que tenga los atributos de \n",
    "- num. expediente\n",
    "- nombre\n",
    "- apellidos\n",
    "- fecha de Nacimiento\n",
    "- curso en el que se matricula. \n",
    "  \n",
    "La clase debe incluir un constructor.\n",
    "Instancia varios objetos de esta clase y prueba los atributos creados."
   ]
  },
  {
   "cell_type": "code",
   "execution_count": null,
   "metadata": {},
   "outputs": [],
   "source": []
  },
  {
   "cell_type": "markdown",
   "metadata": {},
   "source": [
    "### Ejercicio 4\n",
    "\n",
    "Escribe un programa que trabaje con una clase Empleado con las características que se indican a continuación y prueba sus métodos/atributos.\n",
    "\n",
    "**Atributos:**\n",
    "- id\n",
    "- nombre\n",
    "- apellidos\n",
    "- salario\n",
    "\n",
    "**Métodos:**\n",
    "- Constructor: (incluye los parámetros que creas necesarios).\n",
    "- NombreCompleto: Devuelve el nombre completo del empleado con la forma: Apellidos, Nombre.\n",
    "- SalarioAnual: Devuelve el salario anual en 12 pagas.\n",
    "- IncrementoSalario(portcentaje): Incrementa el salario del empleado en la cantidad que se indica en el parámetro porcentual."
   ]
  },
  {
   "cell_type": "code",
   "execution_count": null,
   "metadata": {},
   "outputs": [],
   "source": []
  },
  {
   "cell_type": "markdown",
   "metadata": {},
   "source": [
    "### Ejercicio 5\n",
    "\n",
    "Escribe un programa en el que copies la clase Alumno del ejercicio-1 y modificar añadiendo un atributo (no de instancia) que almacene el número de objetos de esta clase que se instancian.\n",
    "\n",
    "El atributo debe ser privado. \n",
    "Crea un método público que permita obtener solamente el valor de este atributo."
   ]
  },
  {
   "cell_type": "code",
   "execution_count": null,
   "metadata": {},
   "outputs": [],
   "source": []
  },
  {
   "cell_type": "markdown",
   "metadata": {},
   "source": [
    "### Ejercicio 6\n",
    "\n",
    "Escribe un programa que guarde información sobre los taxis de una compañia. De cada taxi se debe guardar:\n",
    "- Matricula\n",
    "- distrito en el que opera\n",
    "- tipo motor (diesel o gasolina)\n",
    "- coordenadas (latitud y longitud), en las que se ubica.\n",
    "\n",
    ">💡Python no soporta sobrecarga de métodos, por lo que no podemos tener varios constructores con el mismo nombre.\n",
    "\n",
    "Crea la clase necesaria y añade un constructor y consigue, el mismo efecto que la sobrecarga de métodos, que si se crearan 2 constructores con el mismo nombre, uno con todos los atributos y otro sin las coordenadas (poner a cero).\n",
    " \n",
    "1. Diseña un método que sirva para comprobar si 2 taxis operan en el mismo distrito, devolviendo true o false.\n",
    "1. Añade un nuevo método que devuelva una cadena con las coordenadas en conjunto (latitud, longitud)."
   ]
  },
  {
   "cell_type": "code",
   "execution_count": null,
   "metadata": {},
   "outputs": [],
   "source": []
  }
 ],
 "metadata": {
  "language_info": {
   "name": "python"
  }
 },
 "nbformat": 4,
 "nbformat_minor": 2
}
