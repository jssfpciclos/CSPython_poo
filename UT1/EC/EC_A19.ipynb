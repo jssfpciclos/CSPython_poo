{
 "cells": [
  {
   "cell_type": "markdown",
   "metadata": {},
   "source": [
    "# UT1. Ejercicios A19. POO en Python: Excepciones\n",
    "\n",
    "Realiza los siguientes ejercicios para practicar la composición en Python.\n",
    "\n",
    "**Objetivo**\n",
    "\n",
    "  Familiarizarse con la importación y uso de módulos y paquetes en Python.\n",
    "\n",
    "**Recursos**\n",
    "- [Documentación Excepciones](../Docs/Doc_excepciones.ipynb)\n",
    "\n",
    "\n",
    "Estos ejercicios debes realizarlos en Pycharm, creando una carpeta dentro de `EC` llamada `EC_A19`, y para cada ejercicio crea un fichero con el nombre `EjXX.py` dentro de la carpeta, donde XX es el número de ejercicio. Por ejemplo, para el ejercicio 1, el fichero será `Ej01.py`.\n",
    "\n",
    "\n",
    "**Normas base**\n",
    "\n",
    "A excepción de que se indique lo contrario, se deben cumplir las siguientes normas base:\n",
    "- Todos los ejercicios tendrán un fichero `main.py` que será el fichero principal del ejercicio, y estará ubicado en la carpeta raíz del ejercicio."
   ]
  },
  {
   "cell_type": "markdown",
   "metadata": {},
   "source": [
    "### Ejercicio 1\n",
    "\n",
    "1. Genera una función para convertir un texto a número, `text_to_number(text: str, default: int)`, que controle las excepciones que se puedan producir al convertir el texto a número. En caso de que se produzca una excepción, se debe mostrar un mensaje de error, y retornar el valor por defecto."
   ]
  },
  {
   "cell_type": "markdown",
   "metadata": {},
   "source": [
    "### Ejercicio 2: Calculadora de división\n",
    "\n",
    "Crea una función llamada calculadora_division que acepte dos números como parámetros y realice la división del primer número por el segundo. La función debe manejar excepciones para los siguientes casos:\n",
    "\n",
    "- Si el segundo número es 0 (`ZeroDivisionError`), la función debe imprimir un mensaje de error indicando que la división por cero no está permitida y devolver None.\n",
    "- Si alguno de los parámetros no es un número (`TypeError`), la función debe imprimir un mensaje de error indicando que se esperan números y devolver None.\n",
    "- Si la operación de división se realiza correctamente, la función debe devolver el resultado.\n",
    "\n",
    "\n",
    "```python\n",
    "# Ejemplos de uso\n",
    "resultado_1 = calculadora_division(10, 2)\n",
    "print(f\"Resultado 1: {resultado_1}\")\n",
    "\n",
    "resultado_2 = calculadora_division(5, 0)\n",
    "print(f\"Resultado 2: {resultado_2}\")\n",
    "\n",
    "resultado_3 = calculadora_division(\"abc\", 2)\n",
    "print(f\"Resultado 3: {resultado_3}\")\n",
    "```"
   ]
  },
  {
   "cell_type": "markdown",
   "metadata": {},
   "source": [
    "### Ejercicio 3. Registrar un usuario\n",
    "\n",
    "Crea una clase de utilidad `UserBO` (BussinesObject) que contiene funciones de utilidad. Todos los métodos son métodos de clase (@staticmethod).\n",
    "\n",
    "1. Crear un método `register_user(name: str, age: int, email: str)` que reciba los datos de un usuario y los almacene en un diccionario. El diccionario debe tener las siguientes claves: `name`, `age` y `email`. El método debe devolver el diccionario con los datos del usuario. Sin embargo, el método debe manejar excepciones para los siguientes casos:\n",
    "    - Si el nombre ingresado no es una cadena de texto, la función debe lanzar una excepción del tipo `TypeError` con el texto `Error: Se esperaba una cadena de texto`` \n",
    "    - Si la edad ingresada no es un número entero, la función debe lanzar una excepción del tipo `TypeError` con el texto `Error: Se esperaba un número entero`\n",
    "    - Si el correo electrónico no contiene un símbolo \"@\" o \".\" (punto), la función debe lanzar una excepción del tipo `ValueError` con el texto `Error: El correo electrónico no es válido`\n",
    "    - Si se produce cualquier otro error, la función debe lanzar una excepción del tipo `Exception` con el texto `Error: Se ha producido un error inesperado`\n",
    "    - Si no se produce ningún error, la función debe devolver el diccionario con los datos del usuario.\n",
    "\n",
    "\n",
    "```python\n",
    "# Ejemplos de uso\n",
    "user_1 = UserBO.register_user(\"Juan\", 25, \"email\") # Error: El correo electrónico no es válido\n",
    "user_2 = UserBO.register_user(\"Juan\", \"25\", \"email\") # Error: Se esperaba un número entero  \n",
    "user_3 = UserBO.register_user(45, 25, \"email\") # Error: Se esperaba una cadena de texto"
   ]
  },
  {
   "cell_type": "markdown",
   "metadata": {},
   "source": [
    "### Ejercicio 4.  Trabajar con bloque try-except-else\n",
    "\n",
    "Crea una función `es_palindromo(texto: str)` que compruebe si un texto es un palíndromo. Un palíndromo es una palabra o frase que se lee igual de izquierda a derecha que de derecha a izquierda. Por ejemplo, \"ana\" es un palíndromo, \"dabale arroz a la zorra el abad\" es un palíndromo, pero \"hola\" no es un palíndromo.\n",
    "\n",
    "La función debe manejar las siguientes situaciones:\n",
    "- Si el parámetro `texto` no es una cadena de texto, la función debe lanzar una excepción del tipo `TypeError` con el texto `Error: Se esperaba una cadena de texto`\n",
    "- Si la cadena es vacía, la función debe lanzar una excepción del tipo `ValueError` con el texto `Error: La cadena no puede estar vacía`\n",
    "\n",
    "Implementar un bloque `try-except-else` para manejar las excepciones. \n",
    "- En el bloque `except` se debe controlar las excepciones:ç\n",
    "  -  `TypeError` y `ValueError` e imprimir el mensaje de error obtenido en la excepción.\n",
    "  -  `Exception` e imprimir el mensaje `Error: Se ha producido un error inesperado`\n",
    "- En el bloque `else` se debe imprimir el mensaje `El {texto} es un palíndromo` o `El {texto} no es un palíndromo` según corresponda.\n",
    "\n",
    "\n",
    "Ejemplos de uso:\n",
    "```python\n",
    "es_palindromo(\"ana\") # El ana es un palíndromo\n",
    "es_palindromo(\"dabale arroz a la zorra el abad\") # El dabale arroz a la zorra el abad es un palíndromo\n",
    "es_palindromo(\"hola\") # El hola no es un palíndromo\n",
    "es_palindromo(123) # Error: Se esperaba una cadena de texto\n",
    "es_palindromo(\"\") # Error: La cadena no puede estar vacía\n",
    "```"
   ]
  },
  {
   "cell_type": "markdown",
   "metadata": {},
   "source": [
    "### Ejercicio 5.  Excepciones personalizdas\n",
    "\n",
    "1. Crea una clase `MyappException` que herede de `Exception` y que tenga un constructor que reciba un mensaje de error y un código de error. El constructor debe llamar al constructor de la clase padre `Exception` con el mensaje de error. La clase debe tener una propiedad `code` que almacenará el código de error. El mensaje de error pasado al constructor de la Excepcion padre, debe incluir el código de error. Por ejemplo, si el código de error es 100 y el mensaje de error es `Error: Se esperaba un número`, el mensaje de error final debe ser `Error 100: Se esperaba un número`.\n",
    "\n",
    "2. Crear las siguientes excepciones personalizadas que hereden de `MyappException`:\n",
    "   - `InvalidPriceError` con el código de error 100.\n",
    "   - `InvalidDiscountError` con el código de error 101.\n",
    "\n",
    "2. Crea una función llamada `calcular_descuento` que tome dos parámetros: el precio original de un producto y el porcentaje de descuento a aplicar. La función debe realizar el cálculo del precio final después del descuento y manejar excepciones personalizadas para los siguientes casos:\n",
    "   - Si el precio original no es un número (`TypeError`), la función debe lanzar una excepción del tipo `InvalidPriceError` con el código de error 100 y el texto `Error: Se esperaba un número`\n",
    "   - Si el % descuento no está en el rango 0-100, la función debe lanzar una excepción del tipo `InvalidDiscountError` y el texto `Error: El descuento debe estar entre 0 y 100`\n",
    "  \n",
    "La función `calcular_descuento` es esta:\n",
    "```python\n",
    "def calcular_descuento(precio_original, porcentaje_descuento):\n",
    "    try:\n",
    "        if precio_original <= 0:\n",
    "            raise InvalidPriceError(\"El precio debe ser un número positivo.\")\n",
    "        if porcentaje_descuento < 0 or porcentaje_descuento > 100:\n",
    "            raise InvalidDiscountError(\"El descuento debe estar en el rango de 0 a 100.\")\n",
    "\n",
    "        precio_final = precio_original - (precio_original * porcentaje_descuento / 100)\n",
    "        return precio_final\n",
    "\n",
    "    except (InvalidPriceError, InvalidDiscountError) as e:\n",
    "        print(f\"Se ha producido un error: {e}\")\n",
    "        return None\n",
    "\n",
    "\n",
    "# Ejemplos de uso\n",
    "precio_final = calcular_descuento(100, 10)\n",
    "print(f\"Precio final 1: {precio_final}\")\n",
    "\n",
    "precio_final = calcular_descuento(100, -10)  # Error: El descuento debe estar en el rango de 0 a 100\n",
    "precio_final = calcular_descuento(100, 110) # Error: El descuento debe estar en el rango de 0 a 100\n",
    "precio_final = calcular_descuento(\"100\", 10) # Error: Se esperaba un número\n",
    "```"
   ]
  }
 ],
 "metadata": {
  "kernelspec": {
   "display_name": "Python 3",
   "language": "python",
   "name": "python3"
  },
  "language_info": {
   "codemirror_mode": {
    "name": "ipython",
    "version": 3
   },
   "file_extension": ".py",
   "mimetype": "text/x-python",
   "name": "python",
   "nbconvert_exporter": "python",
   "pygments_lexer": "ipython3",
   "version": "3.9.13"
  }
 },
 "nbformat": 4,
 "nbformat_minor": 2
}
