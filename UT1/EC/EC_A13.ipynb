{
 "cells": [
  {
   "cell_type": "markdown",
   "metadata": {},
   "source": [
    "# UT1. Ejercicios A3. POO en Python: Clases y objetos\n",
    "\n",
    "Realizar los siguientes ejercicios en Python, cada uno en su propia celda.\n",
    "No es necesario crear 2 celdas para un ejercio, cada ejercicio se resuelve en una celda."
   ]
  },
  {
   "cell_type": "markdown",
   "metadata": {},
   "source": [
    "#### Ejercicio 1\n",
    "\n",
    "Has sido asignado para crear un conjunto de clases para modelar diferentes tipos de vehiculos.<br>\n",
    "- Crear una clase base `Vehicle`, con los atributos `model` y `year`.\n",
    "- Crear una clase `Car` y `Motorcycle` que herede de `Vehicle`.\n",
    "- Cada clase tendrá sus propios atributos y métodos.\n",
    "  - `Car`\n",
    "    - tendrá `num_wheels`, `num_doors`.\n",
    "    - tendrá un método car_info() que imprima todos los atributos.\n",
    "  - `Motorcycle`\n",
    "    - tendrá `num_wheels`, `num_doors`\n",
    "    - tendra un método motorcycle_info() que imprima todos los atributos.\n",
    "\n",
    "\n",
    "Reglas:\n",
    "- Usa la sintaxis super() para llamar a los métodos de la clase padre.\n",
    "\n",
    "Prueba tu código:\n",
    "1. Crea un objeto `Car` con los datos que quieras.\n",
    "2. Crea un objeto `Motorcycle` con los datos que quiera.\n",
    "3. Imprime la información a través de los métodos `car_info()` y `motorcycle_info()`.\n",
    "\n"
   ]
  },
  {
   "cell_type": "code",
   "execution_count": null,
   "metadata": {},
   "outputs": [],
   "source": []
  },
  {
   "cell_type": "markdown",
   "metadata": {},
   "source": [
    "#### Ejercicio 2\n",
    "\n",
    "Basado en el ejercicio anterior:\n",
    "\n",
    "- Convierte todos los atributos de las clases en atributos privados, tanto de la clase base como de la clases hijas.\n",
    "- Crear los métodos `getters` y `setters` para los atributos de la clase base y de las clases derivadas.\n",
    "- Comprueba que todo funciona correctamente, y que este cambio no ha afectado a la funcionalidad de tu código."
   ]
  },
  {
   "cell_type": "code",
   "execution_count": null,
   "metadata": {},
   "outputs": [],
   "source": []
  },
  {
   "cell_type": "markdown",
   "metadata": {},
   "source": [
    "#### Ejercicio 3\n",
    "\n",
    "Has sido asignado para crear un conjunto de clases para modelar diferentes tipos de vehiculos.<br>\n",
    "- Crear una clase base `Vehicle`, con los atributos `model`,`year`, `num_wheels`, `num_doors`.\n",
    "  - Definir propiedades getter y setter para los atributos `model` y `year`.\n",
    "  - Definir un método `info()` que imprima todos los atributos.\n",
    "\n",
    "\n",
    "- Crear una clase `Car` y `Motorcycle` que herede de `Vehicle`.\n",
    "\n",
    "\n",
    "Validaciones:\n",
    "- Un `Car` debe tener 4 ruedas siempre (no se puede asignar) y como mínimo 2 puertas y como máximo 5.\n",
    "- Un `Motorcycle` debe tener 2 ruedas siempre (no se puede asignar) y para puertas debe devolver 0 y no se debe poder asignar.\n",
    "\n",
    "\n",
    "Instancia un objeto de cada clase, y comprueba que funcionan las validaicones aplicadas."
   ]
  },
  {
   "cell_type": "code",
   "execution_count": null,
   "metadata": {},
   "outputs": [],
   "source": []
  },
  {
   "cell_type": "markdown",
   "metadata": {},
   "source": [
    "#### Ejercicio 4\n",
    "\n",
    "Basado en el ejercicio anterior, añade el método `__str__` a la clase base `Vehicle` para que imprima la información del objeto.<br>\n",
    "El método `info()` debe llamar al método `__str__` para imprimir la información."
   ]
  },
  {
   "cell_type": "code",
   "execution_count": null,
   "metadata": {},
   "outputs": [],
   "source": []
  },
  {
   "cell_type": "markdown",
   "metadata": {},
   "source": [
    "#### Ejercicio 5\n",
    "\n",
    "Define una clase `Animal` y se quiere conocer de cada animal su especie, y el sonido que emite.<br>\n",
    "- La clase Animal no se podrá instanciar, es una clase abstracta.\n",
    "- La clase Animal tendrá un método `make_sound()` que imprima el sonido del animal, que será un método abstracto, y que deberá ser implementado en las clases derivadas.\n",
    "\n",
    "Define las clases `Dog`, `Cat` y `Cow` que hereden de `Animal`.<br>\n",
    "En método `make_sound()` de cada clase indique 'Un {especie} hace {sonido}'\n",
    "\n",
    "Prueba tu código:\n",
    "1. Intenta instanciar un objeto de la clase `Animal`, debe dar error.\n",
    "2. Crea un objeto `Dog` y llama al método `make_sound()`.\n",
    "3. Crea un objeto `Cat` y llama al método `make_sound()`.\n",
    "4. Crea un objeto `Cow` y llama al método `make_sound()`."
   ]
  },
  {
   "cell_type": "code",
   "execution_count": null,
   "metadata": {},
   "outputs": [],
   "source": []
  },
  {
   "cell_type": "markdown",
   "metadata": {},
   "source": [
    "#### Ejercicio 6\n",
    "> Atributos de clase\n",
    "\n",
    "Crea una clase `Vehicle` que tenga:\n",
    "- Atributos de instancia: `model`, `year`, `num_wheels`, `num_doors`.\n",
    "- Atributo de clase: `category` con valor 'terrestre' como valor por defecto.\n",
    "  - Este atributo debe ser privado.\n",
    "  - Crea un método de clase `get_category()` que devuelva el valor del atributo de clase.\n",
    "    > Nota: el método de clase no puede acceder a los atributos de instancia."
   ]
  },
  {
   "cell_type": "code",
   "execution_count": null,
   "metadata": {},
   "outputs": [],
   "source": []
  },
  {
   "cell_type": "markdown",
   "metadata": {},
   "source": [
    "#### Ejercicio 7\n",
    "\n",
    "Crea una clase `Vehicle` que tenga:\n",
    "- Atributos de instancia: `model`, `year`, `num_wheels`, `num_doors`.\n",
    "- Atributo de clase: `category` con valor 'terrestre' como valor por defecto.\n",
    "  - Este atributo debe ser privado.\n",
    "  - Crea un método de clase `get_category()` que devuelva el valor del atributo de clase.<br>\n",
    "    **Utiliza un decorador para definir el método de clase.**\n",
    "\n",
    "Ejemplo de atributos de clase y de instancia, asi como de métodos de instancia y de clase.\n",
    "```python\t\n",
    "class MyClass:\n",
    "\n",
    "    _atributo_clase = 'valor'  # Atributo de clase privado\n",
    "\n",
    "    def __init__(self, name):\n",
    "        self.name = name   # Atributo de instancia\n",
    "\n",
    "    def get_name(self):  # getter method para acceder a propiedad name\n",
    "        return sefl.name\n",
    "\n",
    "    def info(self):   # método de instancia\n",
    "        return f'Name: {self.name}'\n",
    "\n",
    "    @staticmethod\n",
    "    def get_atributo_clase():  # método de clase. Se utiliza un decorador para definirlo.\n",
    "        return MyClass._atributo_clase\n",
    "\n",
    "\n",
    "# Instanciar un objeto de la clase MyClass\n",
    "q = MyClass('Pepe')\n",
    "print(q.get_name())  # Pepe\n",
    "print(q.info())  # Name: Pepe\n",
    "print(q.get_atributo_clase())  # valor\n",
    "```\n"
   ]
  },
  {
   "cell_type": "code",
   "execution_count": null,
   "metadata": {},
   "outputs": [],
   "source": []
  }
 ],
 "metadata": {
  "language_info": {
   "name": "python"
  }
 },
 "nbformat": 4,
 "nbformat_minor": 2
}
