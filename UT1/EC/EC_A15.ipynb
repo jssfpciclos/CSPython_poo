{
 "cells": [
  {
   "cell_type": "markdown",
   "metadata": {},
   "source": [
    "# UT1. Ejercicios A5. POO en Python: Mixins\n",
    "\n",
    "Realiza los siguientes ejercicios para practicar la composición y los mixins en Python.\n",
    "\n",
    "**Recursos**\n",
    "- [Documentación. Composición y Mixins en Python](../Docs/Doc_composicion_mixins.ipynb)\n",
    "- [Ejemplos uso composición y mixins](../Example/Example_EC5_Mixin_composition.ipynb)\n",
    "\n",
    "Estos ejercicios debes realizarlos en Pycharm, creando una carpeta dentro de `EC` llamada `EC_A15`, y para cada ejercicio crea un fichero con el nombre `EjXX.py` dentro de la carpeta, donde XX es el número de ejercicio. Por ejemplo, para el ejercicio 1, el fichero será `Ej01.py`."
   ]
  },
  {
   "cell_type": "markdown",
   "metadata": {},
   "source": [
    "### Ejercicio 1\n",
    "\n",
    "- Define una clase mixin llamada `LoggerMixin` que añada logging funcionalidad a una clase.<br>\n",
    "La clase mixin debe tener un método `log` que reciba un mensaje como parámetros y lo imprima<br>\n",
    "\n",
    "- Crea una clase `Person` que tenga como atributos `name` y `surname` y que herede de la clase mixin `LoggerMixin`.<br>\n",
    "\n",
    "- Crea una instancia de la clase `Person` y comprueba que puedes usar el método `log` de la clase mixin."
   ]
  },
  {
   "cell_type": "markdown",
   "metadata": {},
   "source": [
    "### Ejercicio 2\n",
    "\n",
    "- Define una clase `Student` que hereda desde `Person` y que añada un atributo `student_id`.<br>\n",
    "- Crea una instancia de la clase `Student` y comprueba que puedes usar el método `log` de la clase mixin."
   ]
  },
  {
   "cell_type": "markdown",
   "metadata": {},
   "source": [
    "### Ejercicio 3\n",
    "\n",
    "- Definie una clase Mixin llamada `EmailMixin` que añada funcionalidad de envío de emails a una clase.<br>\n",
    "La clase mixin debe tener un método `send_email` que toma los parámetros `to`, `subject` y `body`.<br>\t\n",
    "\n",
    "\n",
    "- Crea una clase `User` que use la clase mixin `EmailMixin` para añadir funcionalidad de envío de emails.<br>\n",
    "  La clase `User` debe tener atributos `name`, `surname` y `email`.<br>\n",
    "\n",
    "- Crea una instancia de la clase `User` y testea la funcionalidad de envío de emails."
   ]
  },
  {
   "cell_type": "markdown",
   "metadata": {},
   "source": [
    "### Ejercicio 4\n",
    "\n",
    "Define una clase mixin llamada `MathOperationsMixin` que añada funcionalidad matemática a una clase.<br>\n",
    "- La clase mixin debe tener los siguientes métodos:\n",
    "- `sum_numbers(a, b)`: recibe dos números `a` y `b` y devuelve la suma de ambos.\n",
    "- `subtract_numbers(a, b)`: recibe dos números `a` y `b` y devuelve la resta de `a` menos `b`.\n",
    "- `multiply_numbers(a, b)`: recibe dos números `a` y `b` y devuelve el producto de ambos.\n",
    "- `divide_numbers(a, b)`: recibe dos números `a` y `b` y devuelve la división de `a` entre `b`.\n",
    "\n",
    "Crea una clase `Calculator` que use la clase mixin `MathOperationsMixin` para añadir funcionalidad matemática.<br>\n",
    "La clase `Calculator` debe tener un atributo `name` y los siguientes métodos:\n",
    " - `__init__(self, name)`: inicializa el objeto `Calculator` con un nombre.\n",
    " - `add(self, a, b)`: recibe dos números `a` y `b` y devuelve la suma de ambos utilizando el método `sum_numbers` de la clase mixin.\n",
    " - `subtract(self, a, b)`: recibe dos números `a` y `b` y devuelve la resta de `a` menos `b` utilizando el método `subtract_numbers` de la clase mixin.\n",
    " - `multiply(self, a, b)`: recibe dos números `a` y `b` y devuelve el producto de ambos utilizando el método `multiply_numbers` de la clase mixin.\n",
    " - `divide(self, a, b)`: recibe dos números `a` y `b` y devuelve la división de `a` entre `b` utilizando el método `divide_numbers` de la clase mixin.\n",
    "\n",
    "Crea una instancia de la clase `Calculator` y realiza algunas operaciones matemáticas utilizando los métodos de la clase.\n",
    "\n",
    "\n"
   ]
  },
  {
   "cell_type": "markdown",
   "metadata": {},
   "source": [
    "### Ejercicio 5\n",
    "\n",
    "- Define una clase mixin llamada `PlayMixin` que añada funcionalidad de reproducción de música a una clase.<br>\n",
    "Esta clase mixin debe tener un método llamado `play`que printee el mensaje `Playing <song_name>`.<br>\n",
    "\n",
    "- Crea una clase `Song` que tiene los atributos `title` y `artist` que use la clase mixin `PlayMixin` para añadir funcionalidad de reproducción de música.<br>\n",
    "  \n",
    "- Crear una clase llamada `Playlist` que tenga como atributos `name` y `songs`, el cual es una lista de objetos canciones<br>\n",
    "La clase `Playlist` debe heredar desde la clase mixin `PlayMixin` para añadir funcionalidad de reproducción de música.<br>\n",
    "\n",
    "Ejemplo de uso:\n",
    "\n",
    "```python\n",
    "song1 = Song(\"Bohemian Rhapsody\", \"Queen\")\n",
    "song1.play()\n",
    "\n",
    "song2 = Song(\"Stairway to Heaven\", \"Led Zeppelin\")\n",
    "song3 = Song(\"Hotel California\", \"The Eagles\")\n",
    "\n",
    "playlist = Playlist(\"My playlist\", [song1, song2, song3])\n",
    "playlist.play()\n",
    "```"
   ]
  }
 ],
 "metadata": {
  "kernelspec": {
   "display_name": "Python 3",
   "language": "python",
   "name": "python3"
  },
  "language_info": {
   "codemirror_mode": {
    "name": "ipython",
    "version": 3
   },
   "file_extension": ".py",
   "mimetype": "text/x-python",
   "name": "python",
   "nbconvert_exporter": "python",
   "pygments_lexer": "ipython3",
   "version": "3.9.13"
  }
 },
 "nbformat": 4,
 "nbformat_minor": 2
}
