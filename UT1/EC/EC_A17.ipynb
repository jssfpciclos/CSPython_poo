{
 "cells": [
  {
   "cell_type": "markdown",
   "metadata": {},
   "source": [
    "# UT1. Ejercicios A7. POO en Python: Modularidad\n",
    "\n",
    "Realiza los siguientes ejercicios para practicar la composición en Python.\n",
    "\n",
    "**Objetivo**\n",
    "\n",
    "  Familiarizarse con la importación y uso de módulos y paquetes en Python.\n",
    "\n",
    "**Recursos**\n",
    "- [Documentación Modularidad](../Docs/Doc_modularidad.ipynb)\n",
    "\n",
    "\n",
    "Estos ejercicios debes realizarlos en Pycharm, creando una carpeta dentro de `EC` llamada `EC_A17`, y para cada ejercicio crea una **carpeta** con el nombre `EjXX` dentro de la carpeta, crea la estructura de ficheros que se indica en el ejercicio.\n",
    "\n",
    "\n",
    "**Normas base**\n",
    "\n",
    "A excepción de que se indique lo contrario, se deben cumplir las siguientes normas base:\n",
    "- Todos los ejercicios tendrán un fichero `main.py` que será el fichero principal del ejercicio, y estará ubicado en la carpeta raíz del ejercicio."
   ]
  },
  {
   "cell_type": "markdown",
   "metadata": {},
   "source": [
    "### Ejercicio 1. Modularidad\n",
    "\n",
    "\n",
    "\n",
    "1. Crea un nuevo módulo Python llamado `operaciones.py`. Dentro de este módulo, define las siguientes funciones:\n",
    "    - `suma(a, b)`: Devuelve la suma de `a` y `b`.\n",
    "    - `resta(a, b)`: Devuelve la resta de `a` y `b`.\n",
    "    - `multiplicacion(a, b)`: Devuelve la multiplicación de `a` y `b`.\n",
    "    - `division(a, b)`: Devuelve la división de `a` y `b`. Asegúrate de manejar la posibilidad de que `b` sea cero.\n",
    "\n",
    "2. Crea un paquete Python llamado `matematicas`. Mueve el módulo `operaciones.py` a este paquete.\n",
    "\n",
    "3. En el fichero `main.py` importa el módulo `operaciones` del paquete `matematicas` y utiliza sus funciones para realizar algunas operaciones matemáticas. Crea una función main que tenga toda la operativa del ejercicio.\n",
    "4.  Por ejemplo, puedes probar la suma de 10 y 5, la resta de 10 y 5, la multiplicación de 10 y 5, y la división de 10 y 5.\n",
    "\n",
    "Recuerda: Para importar el módulo `operaciones` del paquete `matematicas`, puedes usar la siguiente sintaxis: `from matematicas import operaciones`.\n",
    "\n",
    "```python\t\n",
    "# main.py\n",
    "# >> Importa el módulo operaciones del paquete matematicas\n",
    "\n",
    "def main():\n",
    "    # Realiza operaciones matemáticas aquí\n",
    "\n",
    "if __name__ == '__main__':\n",
    "    main()\n",
    "```\n"
   ]
  },
  {
   "cell_type": "markdown",
   "metadata": {},
   "source": [
    "### Ejercicio 2\n",
    "\n",
    "1. Crea un paquete Python llamado `geometria`. Dentro de este paquete, crea dos módulos: `planas.py` y `solidas.py`.\n",
    "\n",
    "2. En el módulo `planas.py`, define las siguientes funciones para calcular el área de diferentes figuras planas:\n",
    "    - `area_cuadrado(lado)`: Devuelve el área de un cuadrado dado su lado.\n",
    "    - `area_circulo(radio)`: Devuelve el área de un círculo dado su radio. Utiliza el valor de pi del módulo `math` de Python.\n",
    "    - `area_triangulo(base, altura)`: Devuelve el área de un triángulo dada su base y altura.\n",
    "\n",
    "3. En el módulo `solidas.py`, define las siguientes funciones para calcular el volumen de diferentes figuras sólidas:\n",
    "    - `volumen_cubo(lado)`: Devuelve el volumen de un cubo dado su lado.\n",
    "    - `volumen_esfera(radio)`: Devuelve el volumen de una esfera dado su radio. Utiliza el valor de pi del módulo `math` de Python.\n",
    "    - `volumen_cilindro(radio, altura)`: Devuelve el volumen de un cilindro dado su radio y altura. Utiliza el valor de pi del módulo `math` de Python.\n",
    "\n",
    "4. En el fichero `main.py` importa el módulo `geometria`. En este archivo, importa las funciones de los módulos `planas` y `solidas` y utilízalas para calcular el área y el volumen de algunas figuras. Asegúrate de manejar cualquier entrada inválida (por ejemplo, longitudes negativas).\n",
    "\n",
    "```python\t\n",
    "# main.py\n",
    "assert planas.area_cuadrado(5) == 25\n",
    "assert planas.area_rectangulo(5, 10) == 50\n",
    "assert planas.area_triangulo(5, 10) == 25\n",
    "assert planas.area_circulo(5) == 78.53981633974483\n",
    "assert solidas.volumen_cubo(5) == 125\n",
    "assert solidas.volumen_esfera(5) == 523.5987755982989\n",
    "assert solidas.volumen_cilindro(5, 10) == 785.3981633974483\n",
    "```"
   ]
  },
  {
   "cell_type": "markdown",
   "metadata": {},
   "source": [
    "### Ejercicio 3\n",
    "\n",
    "1. Crea un paquete Python llamado `ciencia`. Dentro de este paquete, crea dos subpaquetes: `fisica` y `matematicas`.\n",
    "\n",
    "2. En el subpaquete `fisica`, crea un módulo llamado `movimiento.py`. En este módulo, define las siguientes funciones:\n",
    "    - `distancia_inicial(velocidad, tiempo, aceleracion)`: Devuelve la distancia inicial en un movimiento uniformemente acelerado.\n",
    "    - `velocidad_final(velocidad_inicial, aceleracion, tiempo)`: Devuelve la velocidad final en un movimiento uniformemente acelerado.\n",
    "\n",
    "3. En el subpaquete `matematicas`, crea un módulo llamado `algebra.py`. En este módulo, define las siguientes funciones:\n",
    "    - `ecuacion_lineal(a, b)`: Resuelve una ecuación lineal del tipo ax + b = 0.\n",
    "    - `ecuacion_cuadratica(a, b, c)`: Resuelve una ecuación cuadrática del tipo ax^2 + bx + c = 0.\n",
    "\n",
    "4. En el archivo `__init__.py` de cada subpaquete, importa los módulos correspondientes para que puedan ser accesibles desde el paquete `ciencia`. (Pista: utiliza la sintaxis `from . import modulo`).\n",
    "\n",
    "5. En el fichero `main.py` incluye los siguientes asserts, e incluye los imports necesarios para que funcionen, dentro de la función main. (`fis` y `mat` son alias para los subpaquetes `fisica` y `matematicas` respectivamente).):\n",
    "\n",
    "```python\n",
    "assert fis.movimiento.distancia_inicial(5, 10, 2) == 150.0\n",
    "assert fis.movimiento.velocidad_final(3, 12, 2) == 27\n",
    "\n",
    "assert mat.algebra.ecuacion_lineal(1, 5, 1) == -4\n",
    "assert mat.algebra.ecuacion_cuadratica(3, 5, 1) == -0.2324081207560018\n",
    "```\n",
    "\n"
   ]
  }
 ],
 "metadata": {
  "kernelspec": {
   "display_name": "Python 3",
   "language": "python",
   "name": "python3"
  },
  "language_info": {
   "codemirror_mode": {
    "name": "ipython",
    "version": 3
   },
   "file_extension": ".py",
   "mimetype": "text/x-python",
   "name": "python",
   "nbconvert_exporter": "python",
   "pygments_lexer": "ipython3",
   "version": "3.9.13"
  }
 },
 "nbformat": 4,
 "nbformat_minor": 2
}
