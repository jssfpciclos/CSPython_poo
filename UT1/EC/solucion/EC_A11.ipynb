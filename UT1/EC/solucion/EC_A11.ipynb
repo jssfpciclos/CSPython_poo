{
 "cells": [
  {
   "cell_type": "markdown",
   "metadata": {},
   "source": [
    "# UT1. Ejercicios A1. POO en Python: Clases y objetos\n",
    "\n",
    "Realizar los siguientes ejercicios en Python, cada uno en su propia celda.\n",
    "No es necesario crear 2 celdas para un ejercio, cada ejercicio se resuelve en una celda."
   ]
  },
  {
   "cell_type": "markdown",
   "metadata": {},
   "source": [
    "### Ejercicio 1\n",
    "\n",
    "Escribe un programa en Python que cree una clase Vehiculo con los atributos maximaVelocidad y kilometros. Los atributos deben estar dentro del constructor.\n",
    "Crear una instancia de la clase Vehiculo e imprimir el valor de sus atributos."
   ]
  },
  {
   "cell_type": "code",
   "execution_count": null,
   "metadata": {},
   "outputs": [],
   "source": [
    "class Vehiculo:\n",
    "  def __init__(self, maximaVelocidad, kilometros):\n",
    "    self.maximaVelocidad = maximaVelocidad\n",
    "    self.kilometros = kilometros\n",
    "\n",
    "vehiculo = Vehiculo(200, 5000)\n",
    "\n",
    "print(\"Maxima Velocidad:\", vehiculo.maximaVelocidad)\n",
    "print(\"Kilometros:\", vehiculo.kilometros)"
   ]
  },
  {
   "cell_type": "markdown",
   "metadata": {},
   "source": [
    "### Ejercicio 2\n",
    "\n",
    "Dentro del mismo programa, crear una clase Vehiculo2 sin ninguna variable ni atributo (una clase vacía)."
   ]
  },
  {
   "cell_type": "code",
   "execution_count": null,
   "metadata": {},
   "outputs": [],
   "source": [
    "class Vehiculo2:\n",
    "  pass"
   ]
  },
  {
   "cell_type": "markdown",
   "metadata": {},
   "source": [
    "### Ejercicio 3\n",
    "\n",
    "Escribe un programa que trabaje con una clase Alumno, que tenga los atributos de \n",
    "- num. expediente\n",
    "- nombre\n",
    "- apellidos\n",
    "- fecha de Nacimiento\n",
    "- curso en el que se matricula. \n",
    "  \n",
    "La clase debe incluir un constructor.\n",
    "Instancia varios objetos de esta clase y prueba los atributos creados."
   ]
  },
  {
   "cell_type": "code",
   "execution_count": 6,
   "metadata": {},
   "outputs": [
    {
     "name": "stdout",
     "output_type": "stream",
     "text": [
      "Numero de expediente: 1\n",
      "Nombre: Juan\n",
      "Apellidos: Perez\n",
      "Fecha de nacimiento: 01/01/2000\n",
      "Curso: 1\n"
     ]
    }
   ],
   "source": [
    "class Alumno:\n",
    "  def __init__(self, num_expediente, nombre, apellidos, fecha_nacimiento, curso):\n",
    "    self.num_expediente = num_expediente\n",
    "    self.nombre = nombre\n",
    "    self.apellidos = apellidos\n",
    "    self.fecha_nacimiento = fecha_nacimiento\n",
    "    self.curso = curso\n",
    "\n",
    "alumno = Alumno(1, \"Juan\", \"Perez\", \"01/01/2000\", 1)\n",
    "\n",
    "print(\"Numero de expediente:\", alumno.num_expediente)\n",
    "print(\"Nombre:\", alumno.nombre)\n",
    "print(\"Apellidos:\", alumno.apellidos)\n",
    "print(\"Fecha de nacimiento:\", alumno.fecha_nacimiento)\n",
    "print(\"Curso:\", alumno.curso)"
   ]
  },
  {
   "cell_type": "markdown",
   "metadata": {},
   "source": [
    "### Ejercicio 4\n",
    "\n",
    "Escribe un programa que trabaje con una clase Empleado con las características que se indican a continuación y prueba sus métodos/atributos.\n",
    "\n",
    "**Atributos:**\n",
    "- id\n",
    "- nombre\n",
    "- apellidos\n",
    "- salario\n",
    "\n",
    "**Métodos:**\n",
    "- Constructor: (incluye los parámetros que creas necesarios).\n",
    "- NombreCompleto: Devuelve el nombre completo del empleado con la forma: Apellidos, Nombre.\n",
    "- SalarioAnual: Devuelve el salario anual en 12 pagas.\n",
    "- IncrementoSalario(portcentaje): Incrementa el salario del empleado en la cantidad que se indica en el parámetro porcentual."
   ]
  },
  {
   "cell_type": "code",
   "execution_count": 5,
   "metadata": {},
   "outputs": [
    {
     "name": "stdout",
     "output_type": "stream",
     "text": [
      "Empleado 1. Salario completo: Perez, Juan\n",
      "Empleado 2. Salario completo: Gomez, Maria\n",
      "Empleado 1. Salario anual: 12000\n",
      "Empleado 2. Salario anual: 24000\n",
      "Empleado 1. Salario anual despues incremento 10%: 13200.0\n",
      "Empleado 2. Salario anual despues incremento 10%: 26400.0\n"
     ]
    }
   ],
   "source": [
    "class Empleado:\n",
    "  def __init__(self, id, nombre, apellidos, salario):\n",
    "    self.id = id\n",
    "    self.nombre = nombre\n",
    "    self.apellidos = apellidos\n",
    "    self.salario = salario\n",
    "  \n",
    "  def NombreCompleto(self):\n",
    "    return f\"{self.apellidos}, {self.nombre}\"\n",
    "  \n",
    "  def SalarioAnual(self):\n",
    "    return self.salario * 12\n",
    "  \n",
    "  def IncrementoSalario(self, porcentaje):\n",
    "    self.salario += self.salario * (porcentaje / 100)\n",
    "\n",
    "\n",
    "empleado1 = Empleado(1, \"Juan\", \"Perez\", 1000)\n",
    "empleado2 = Empleado(2, \"Maria\", \"Gomez\", 2000)\n",
    "\n",
    "print(f\"Empleado 1. Salario completo: {empleado1.NombreCompleto()}\")\n",
    "print(f\"Empleado 2. Salario completo: {empleado2.NombreCompleto()}\")\n",
    "\n",
    "print(f\"Empleado 1. Salario anual: {empleado1.SalarioAnual()}\")\n",
    "print(f\"Empleado 2. Salario anual: {empleado2.SalarioAnual()}\")\n",
    "\n",
    "empleado1.IncrementoSalario(10)\n",
    "empleado2.IncrementoSalario(10)\n",
    "\n",
    "print(f\"Empleado 1. Salario anual despues incremento 10%: {empleado1.SalarioAnual()}\")\n",
    "print(f\"Empleado 2. Salario anual despues incremento 10%: {empleado2.SalarioAnual()}\")"
   ]
  },
  {
   "cell_type": "markdown",
   "metadata": {},
   "source": [
    "### Ejercicio 5\n",
    "\n",
    "Escribe un programa en el que copies la clase Alumno del ejercicio-1 y modificar añadiendo un atributo (no de instancia) que almacene el número de objetos de esta clase que se instancian.\n",
    "\n",
    "El atributo debe ser privado. \n",
    "Crea un método público que permita obtener solamente el valor de este atributo."
   ]
  },
  {
   "cell_type": "code",
   "execution_count": 4,
   "metadata": {},
   "outputs": [],
   "source": [
    "class Alumno:\n",
    "\n",
    "  # Variable de clase, se accede a ella a través del nombre de la clase. Es compartida por todos los objetos. Es privada\n",
    "  _num_objetos = 0\n",
    "  \n",
    "  def __init__(self, num_expediente, nombre, apellidos, fecha_nacimiento, curso):\n",
    "    self.num_expediente = num_expediente\n",
    "    self.nombre = nombre\n",
    "    self.apellidos = apellidos\n",
    "    self.fecha_nacimiento = fecha_nacimiento\n",
    "    self.curso = curso\n",
    "    # Incrementamos el número de objetos, se accede a la variable de clase a través del nombre de la clase\n",
    "    Alumno._num_objetos += 1\n",
    "  \n",
    "  def getNumObjetos(self):\n",
    "    return Alumno._num_objetos\n",
    "  \n",
    "\n",
    "alumno1 = Alumno(1, \"Juan\", \"García\", \"01/01/2000\", 1)\n",
    "alumno2 = Alumno(2, \"María\", \"López\", \"01/01/2000\", 2)\n",
    "\n",
    "assert(alumno1.getNumObjetos() == 2)\n"
   ]
  },
  {
   "cell_type": "markdown",
   "metadata": {},
   "source": [
    "### Ejercicio 6\n",
    "\n",
    "Escribe un programa que guarde información sobre los taxis de una compañia. De cada taxi se debe guardar:\n",
    "- Matricula\n",
    "- distrito en el que opera\n",
    "- tipo motor (diesel o gasolina)\n",
    "- coordenadas (latitud y longitud), en las que se ubica.\n",
    "\n",
    ">💡Python no soporta sobrecarga de métodos, por lo que no podemos tener varios constructores con el mismo nombre.\n",
    "\n",
    "Crea la clase necesaria y añade un constructor y consigue, el mismo efecto que la sobrecarga de métodos, que si se crearan 2 constructores con el mismo nombre, uno con todos los atributos y otro sin las coordenadas (poner a cero).\n",
    " \n",
    "1. Diseña un método que sirva para comprobar si 2 taxis operan en el mismo distrito, devolviendo true o false.\n",
    "1. Añade un nuevo método que devuelva una cadena con las coordenadas en conjunto (latitud, longitud)."
   ]
  },
  {
   "cell_type": "code",
   "execution_count": 3,
   "metadata": {},
   "outputs": [
    {
     "name": "stdout",
     "output_type": "stream",
     "text": [
      "Taxi-1. coordenadas (40.4167, -3.70325)\n",
      "Taxi-2. coordenadas (0, 0)\n"
     ]
    }
   ],
   "source": [
    "class Taxi:\n",
    "  def __init__(self, matricula, distrito, tipo_motor, latitud=0, longitud=0):\n",
    "    self.matricula = matricula\n",
    "    self.distrito = distrito\n",
    "    self.tipo_motor = tipo_motor\n",
    "    self.latitud = latitud\n",
    "    self.longitud = longitud\n",
    "  \n",
    "  def mismo_distrito(self, otro_taxi):\n",
    "    return self.distrito == otro_taxi.distrito\n",
    "  \n",
    "  def getCoordenadasTexto(self):\n",
    "    return f\"({self.latitud}, {self.longitud})\"\n",
    "  \n",
    "\n",
    "taxi1 = Taxi(\"1234ABC\", \"Centro\", \"Diesel\", 40.4167, -3.70325)\n",
    "taxi2 = Taxi(\"5678DEF\", \"Centro\", \"Diesel\")\n",
    "\n",
    "print(\"Taxi-1. coordenadas\", taxi1.getCoordenadasTexto())\n",
    "print(\"Taxi-2. coordenadas\", taxi2.getCoordenadasTexto())\n",
    "assert(taxi1.mismo_distrito(taxi2) == True)"
   ]
  }
 ],
 "metadata": {
  "kernelspec": {
   "display_name": "Python 3",
   "language": "python",
   "name": "python3"
  },
  "language_info": {
   "codemirror_mode": {
    "name": "ipython",
    "version": 3
   },
   "file_extension": ".py",
   "mimetype": "text/x-python",
   "name": "python",
   "nbconvert_exporter": "python",
   "pygments_lexer": "ipython3",
   "version": "3.9.13"
  }
 },
 "nbformat": 4,
 "nbformat_minor": 2
}
