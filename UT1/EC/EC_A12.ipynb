{
 "cells": [
  {
   "cell_type": "markdown",
   "metadata": {},
   "source": [
    "# UT1. Ejercicios A2. POO en Python: Clases y objetos\n",
    "\n",
    "Realizar los siguientes ejercicios en Python, cada uno en su propia celda.\n",
    "No es necesario crear 2 celdas para un ejercio, cada ejercicio se resuelve en una celda."
   ]
  },
  {
   "cell_type": "markdown",
   "metadata": {},
   "source": [
    "### Ejercicio 1\n",
    "\n",
    "Escribe una clase llamada Rectangulo que contenga:\n",
    "- Dos atributos: base y altura.\n",
    "- Un método que calcule el área del rectángulo (base * altura).\n",
    "- Un método que calcule el perímetro del rectángulo (2 * base + 2 * altura).\n",
    "\n",
    "Crea un objeto de la clase Rectangulo y comprueba que los métodos funcionan correctamente."
   ]
  },
  {
   "cell_type": "code",
   "execution_count": null,
   "metadata": {},
   "outputs": [],
   "source": []
  },
  {
   "cell_type": "markdown",
   "metadata": {},
   "source": [
    "### Ejercicio 2\n",
    "\n",
    "Escribe una clase llamada Persona que contenga:\n",
    "- Un atributo llamado nombre.\n",
    "- Un método que imprima por pantalla el mensaje \"Hola, me llamo {nombre}\".\n",
    "- Un método que imprima por pantalla el mensaje \"Adiós, me voy de vacaciones\"."
   ]
  },
  {
   "cell_type": "code",
   "execution_count": null,
   "metadata": {},
   "outputs": [],
   "source": []
  },
  {
   "cell_type": "markdown",
   "metadata": {},
   "source": [
    "### Ejercicio 3\n",
    "\n",
    "Dado la siguiente clase:\n",
    "\n",
    "```python\t\n",
    "class Vehicle:\n",
    "    def __init__(self, name, max_speed, mileage):\n",
    "        self.name = name\n",
    "        self.max_speed = max_speed\n",
    "        self.mileage = mileage\n",
    "```\n",
    "Crea una clase Bus que herede de la clase Vehicle y que contenga:\n",
    "- Un atributo llamado _capacidad_.\n",
    "- Un método _info_ que imprima por pantalla el mensaje \"Bus con capacidad para {_capacidad_} pasajeros\"."
   ]
  },
  {
   "cell_type": "code",
   "execution_count": null,
   "metadata": {},
   "outputs": [],
   "source": []
  },
  {
   "cell_type": "markdown",
   "metadata": {},
   "source": [
    "### Ejercicio 4\n",
    "\n",
    "Basado en el ejercicio anterior, agrega a la clase Bus un constructor que reciba como parámetros los atributos de la clase Vehicle y el atributo capacidad.<br>\n",
    "El atributo capacidad debe tener un valor por defecto de 50."
   ]
  },
  {
   "cell_type": "code",
   "execution_count": null,
   "metadata": {},
   "outputs": [],
   "source": []
  },
  {
   "cell_type": "markdown",
   "metadata": {},
   "source": [
    "### Ejercicio 5\n",
    "\n",
    "Basado en el ejercicio 4, agrega un atributo de clase, a la clase _Vehicle_ llamado _colorBase_ con un valor por defecto de \"blanco\".<br>\n",
    "Crear un objeto de la clase Bus y comprobar que el atributo _colorBase_ es accesible desde el objeto.<br>\n",
    "Modifica el método _info_ para incluir el color base del vehículo."
   ]
  },
  {
   "cell_type": "code",
   "execution_count": null,
   "metadata": {},
   "outputs": [],
   "source": []
  },
  {
   "cell_type": "markdown",
   "metadata": {},
   "source": [
    "### Ejercicio 6\n",
    "\n",
    "Crea una clase _Animal_ con un atributo _name_ y un método _speak_ que imprima por pantalla el mensaje \"Yo soy {nombre}\".\n",
    "\n",
    "Además crea una clase _Dog_ que herede de la clase _Animal_ y que tenga un atributo _raza_ y un método _speak_ que imprima por pantalla el mensaje \"Yo soy {nombre} y soy un perro de raza {raza}, y ladro\".\n",
    "\n",
    "Crea un objeto de la clase _Dog_ y comprueba que el método _speak_ funciona correctamente."
   ]
  },
  {
   "cell_type": "code",
   "execution_count": null,
   "metadata": {},
   "outputs": [],
   "source": []
  },
  {
   "cell_type": "markdown",
   "metadata": {},
   "source": [
    "### Ejercicio 7\n",
    "\n",
    "Basado en el ejercicio anterior, en la el constructor  de la clase _Dog_ utiliza la función _super()_ para llamar al constructor de la clase _Animal_ y asignar el atributo _name_.\n",
    "\n",
    "Crea un objeto de la clase _Dog_ y comprueba que el método _speak_ funciona correctamente."
   ]
  },
  {
   "cell_type": "code",
   "execution_count": null,
   "metadata": {},
   "outputs": [],
   "source": []
  },
  {
   "cell_type": "markdown",
   "metadata": {},
   "source": [
    "### Ejercicio 8\n",
    "\n",
    "Crear una clase _Circle_ con un atributo _radius_, este atributo debe ser privado.<br>\n",
    "Crea una función getter y setter para el atributo _radius_, que permita obtener y asignar un valor al atributo.<br>\n",
    "Es necesario comprobar que el valor asignado al atributo es un número positivo, en caso contrario no asigna el valor.\n",
    "\n",
    "Crea un objeto de la clase _Circle_ y comprueba que el método _setter_ funciona correctamente, y que no permite asignar un valor negativo."
   ]
  },
  {
   "cell_type": "code",
   "execution_count": null,
   "metadata": {},
   "outputs": [],
   "source": []
  },
  {
   "cell_type": "markdown",
   "metadata": {},
   "source": [
    "### Ejercicio 9\n",
    "\n",
    "Basado en el ejercicio anterior, modifica la clase _Circle_, cambiando las funciones getter y setter par la propiedad _radius_ con la forma de _property_."
   ]
  },
  {
   "cell_type": "code",
   "execution_count": null,
   "metadata": {},
   "outputs": [],
   "source": []
  },
  {
   "cell_type": "markdown",
   "metadata": {},
   "source": [
    "### Ejercicio 10\n",
    "\n",
    "Crea una clase _Staff_ con un atributo _role_, _department_ y _salary_.<br>\n",
    "La clase _Staff_ debe tener un método _info_ que muestre la información del empleado.<br>\n",
    "\n",
    "Crea una clase _Teacher_ que herede de la clase _Staff_ y que tenga un atributo _name_ y _age_.<br>\n",
    "Para el constructor de la clase _Teacher_ utiliza la función _super()_ para llamar al constructor de la clase _Staff_ y asignar los atributos _role_, _department_ y _salary_.<br>\n",
    "Override el método _info_ para que muestre la información del profesor, incluyendo el nombre y la edad.\n",
    "Crea otro método _infoSuper_ que utilize la sintaxis de super para llamar al método _info_ de la clase padre.\n",
    "\n",
    "Crea un objeto de la clase _Teacher_ y comprueba que el método _info_ funciona correctamente.\n"
   ]
  },
  {
   "cell_type": "code",
   "execution_count": null,
   "metadata": {},
   "outputs": [],
   "source": []
  },
  {
   "cell_type": "markdown",
   "metadata": {},
   "source": [
    "#### Ejercicio 11\n",
    "\n",
    "Crea una clase `BanckAccount` con atributos balance y account_number, estos métodos deben ser privados.<br>\n",
    "Implementa métodos para obtener el número de cuenta, obtener el balance, depositar fondos y retirar fondos, utilizando getters y setters.\n",
    "\n",
    "Validaciones:\n",
    "- El número de cuenta debe ser de solo lectura.\n",
    "- El balance no puede ser negativo.\n",
    "- El método para retirar fondos no puede retirar más fondos de los que hay en la cuenta.\n",
    "- El método para retirar fondos debe devolver el dinero retirado, pero si no hay suficiente dinero en la cuenta debe devolver el dinero que hay en la cuenta.\n",
    "\n",
    "Crea un objeto de la clase `BanckAccount` y comprueba que los métodos funcionan correctamente, con cada uno de los casos de validación."
   ]
  },
  {
   "cell_type": "code",
   "execution_count": 1,
   "metadata": {},
   "outputs": [],
   "source": []
  },
  {
   "cell_type": "markdown",
   "metadata": {},
   "source": [
    "#### Ejercicio 12\n",
    "\n",
    "Basado en el ejercicio anterior, cambia los getters y setters utilizando la sintaxis de property (decoradores).\n",
    "\n",
    "Comprueba que todo funciona correctamente, al igual que en el ejercicio anterior."
   ]
  },
  {
   "cell_type": "code",
   "execution_count": null,
   "metadata": {},
   "outputs": [],
   "source": []
  },
  {
   "cell_type": "markdown",
   "metadata": {},
   "source": [
    "#### Ejercicio 13\n",
    "\n",
    "Crea una clase `Person` que represente la información de una persona, incluyendo su nombre, edad y email.<br>\n",
    "Sin embargo para mantener la privacidad se necesita usar getters y setters para acceder y modificar estos atributos.<br>\n",
    "\n",
    "Reglas:\n",
    "- El nombre y el email no pueden ser modificados.\n",
    "- La edad debe ser un número positivo entre 0 y 120.\n",
    "\n",
    "Crea un objeto de la clase `Person` y comprueba que los métodos funcionan correctamente, con cada uno de los casos de validación."
   ]
  },
  {
   "cell_type": "code",
   "execution_count": null,
   "metadata": {},
   "outputs": [],
   "source": []
  }
 ],
 "metadata": {
  "kernelspec": {
   "display_name": "Python 3",
   "language": "python",
   "name": "python3"
  },
  "language_info": {
   "codemirror_mode": {
    "name": "ipython",
    "version": 3
   },
   "file_extension": ".py",
   "mimetype": "text/x-python",
   "name": "python",
   "nbconvert_exporter": "python",
   "pygments_lexer": "ipython3",
   "version": "3.9.13"
  }
 },
 "nbformat": 4,
 "nbformat_minor": 2
}
