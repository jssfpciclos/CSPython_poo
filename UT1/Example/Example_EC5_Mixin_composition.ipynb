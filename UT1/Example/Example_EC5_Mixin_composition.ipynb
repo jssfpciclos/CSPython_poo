{
 "cells": [
  {
   "cell_type": "markdown",
   "metadata": {},
   "source": [
    "## Ejemplos de Mixin y composición\n",
    "\n",
    "### Mixins\n",
    "\n",
    "Enn este ejemplo se utiliza un Mixin para agregar la funcionadad de emitir información de depuración a una clase."
   ]
  },
  {
   "cell_type": "code",
   "execution_count": null,
   "metadata": {},
   "outputs": [],
   "source": [
    "class LoggerMixin:\n",
    "    # Mixin no tiene estado, todos los valores son pasados como parámetros o obtenidos desde self\n",
    "    #Mixin no tiene constructor. Impide que se pueda instanciar\n",
    "\n",
    "    def log_debug(self, message):\n",
    "        print(f\"[DEBUG] {message}\")\n",
    "\n",
    "    def log_info(self, message):\n",
    "        print(f\"[INFO] {message}\")\n",
    "\n",
    "    def log_warning(self, message):\n",
    "        print(f\"[WARNING] {message}\")\n",
    "\n",
    "    def log_error(self, message):\n",
    "        print(f\"[ERROR] {message}\")\n",
    "\n",
    "class Calculator(LoggerMixin):\n",
    "    def multiply(self, x, y):\n",
    "        if (x < 0):\n",
    "            # Usa el método log_error del Mixin\n",
    "            self.log_error(\"x must be positive\")\n",
    "            return\n",
    "\n",
    "        if (x> 10000):\n",
    "            # Usa el método log_error del Mixin\n",
    "            self.log_warning(\"x is very large\")\n",
    "\n",
    "        result = x * y\n",
    "        self.log_debug(f\"Multiplying {x} and {y} gives {result}\")\n",
    "        return result\n",
    "\n",
    "\n",
    "    def add(self, x, y):\n",
    "        result = x + y\n",
    "        self.log_debug(f\"Adding {x} and {y} gives {result}\")\n",
    "        return result\n",
    "\n",
    "    def subtract(self, x, y):\n",
    "        result = x - y\n",
    "        self.log_debug(f\"Subtracting {y} from {x} gives {result}\")\n",
    "        return result"
   ]
  },
  {
   "cell_type": "markdown",
   "metadata": {},
   "source": [
    "En este otro ejemplo se utiliza un Mixin para con la funcionalidad de exportar datos a un archivo CSV.\n",
    "\n",
    "Tenemos una clase `CsvExportMixin` que tiene un método `export_csv` que recibe un nombre de archivo y obtiene los datos de la clase. El método se encarga de abrir el archivo, escribir los datos y cerrar el archivo.\n",
    "\n",
    "La clase `Student` es la clase a la que se le aplica esta funcionalidad."
   ]
  },
  {
   "cell_type": "code",
   "execution_count": null,
   "metadata": {},
   "outputs": [],
   "source": [
    "import csv\n",
    "\n",
    "class CsvExportMixin:\n",
    "    def save_to_csv(self, filename):\n",
    "        \n",
    "      with open(filename, 'w', newline='') as csvfile:\n",
    "          \n",
    "          # Los nombres de las columnas son los nombres de los atributos de la clase\n",
    "          fieldnames = self.__dict__.keys()\n",
    "          writer = csv.DictWriter(csvfile, fieldnames=fieldnames)\n",
    "          \n",
    "          # Write the header\n",
    "          writer.writeheader()\n",
    "          \n",
    "          # Write the data\n",
    "          writer.writerow(self.__dict__)\n",
    "          \n",
    "          print(f\"Data saved to {filename} successfully.\")\n",
    "        \n",
    "\n",
    "# Clase Student que hereda de CsvExportMixin\n",
    "class Student(CsvExportMixin):\n",
    "    def __init__(self, name, age, grade):\n",
    "        self.name = name\n",
    "        self.age = age\n",
    "        self.grade = grade\n",
    "\n",
    "# Create an instance of Student\n",
    "student = Student(\"Alice\", 18, \"A\")\n",
    "\n",
    "# Guarda el contenido de esta instancia en un archivo CSV\n",
    "student.save_to_csv(\"student_data.csv\", mode='w', header=True)"
   ]
  }
 ],
 "metadata": {
  "language_info": {
   "name": "python"
  }
 },
 "nbformat": 4,
 "nbformat_minor": 2
}
